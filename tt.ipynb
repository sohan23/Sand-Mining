{
 "cells": [
  {
   "cell_type": "code",
   "execution_count": 3,
   "metadata": {},
   "outputs": [
    {
     "ename": "AttributeError",
     "evalue": "module 'geemap' has no attribute 'MapLayer'",
     "output_type": "error",
     "traceback": [
      "\u001b[1;31m---------------------------------------------------------------------------\u001b[0m",
      "\u001b[1;31mAttributeError\u001b[0m                            Traceback (most recent call last)",
      "Cell \u001b[1;32mIn[3], line 9\u001b[0m\n\u001b[0;32m      6\u001b[0m m \u001b[39m=\u001b[39m geemap\u001b[39m.\u001b[39mMap()\n\u001b[0;32m      8\u001b[0m \u001b[39m# Create a Map Layer object\u001b[39;00m\n\u001b[1;32m----> 9\u001b[0m layer \u001b[39m=\u001b[39m geemap\u001b[39m.\u001b[39;49mMapLayer()\n\u001b[0;32m     11\u001b[0m \u001b[39m# Add the layer to the map\u001b[39;00m\n\u001b[0;32m     12\u001b[0m m\u001b[39m.\u001b[39madd_layer(layer)\n",
      "\u001b[1;31mAttributeError\u001b[0m: module 'geemap' has no attribute 'MapLayer'"
     ]
    }
   ],
   "source": [
    "import ee\n",
    "import geemap\n",
    "\n",
    "ee.Initialize()\n",
    "\n",
    "m = geemap.Map()\n",
    "\n",
    "# Create a Map Layer object\n",
    "layer = geemap.MapLayer()\n",
    "\n",
    "# Add the layer to the map\n",
    "m.add_layer(layer)\n",
    "\n",
    "# Display the map\n",
    "m\n"
   ]
  },
  {
   "cell_type": "code",
   "execution_count": null,
   "metadata": {},
   "outputs": [],
   "source": []
  }
 ],
 "metadata": {
  "kernelspec": {
   "display_name": "Python 3",
   "language": "python",
   "name": "python3"
  },
  "language_info": {
   "codemirror_mode": {
    "name": "ipython",
    "version": 3
   },
   "file_extension": ".py",
   "mimetype": "text/x-python",
   "name": "python",
   "nbconvert_exporter": "python",
   "pygments_lexer": "ipython3",
   "version": "3.11.0"
  },
  "orig_nbformat": 4,
  "vscode": {
   "interpreter": {
    "hash": "619051b025e8be636923d3c0392938d0d71e0e1e777156c3beb5b1bae727d0d5"
   }
  }
 },
 "nbformat": 4,
 "nbformat_minor": 2
}
